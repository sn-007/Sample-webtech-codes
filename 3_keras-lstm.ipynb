{
  "cells": [
    {
      "cell_type": "markdown",
      "metadata": {
        "id": "Y45yhDufI5Uo"
      },
      "source": [
        "# **RNN**\n",
        "A recurrent neural network (RNN) is a class of artificial neural network where connections between units form a directed cycle. This creates an internal state of the network which allows it to exhibit dynamic temporal behavior."
      ]
    },
    {
      "cell_type": "code",
      "execution_count": null,
      "metadata": {
        "colab": {
          "base_uri": "https://localhost:8080/"
        },
        "id": "SozhvLNkI5U6",
        "outputId": "5b5b2521-e50f-450a-e445-0afd827043b4"
      },
      "outputs": [
        {
          "name": "stdout",
          "output_type": "stream",
          "text": [
            "Loaded dataset with 25000 training samples, 25000 test samples\n"
          ]
        }
      ],
      "source": [
        "#load the imdb dataset \n",
        "from keras.datasets import imdb\n",
        "\n",
        "vocabulary_size = 5000\n",
        "(X_train, y_train), (X_test, y_test) = imdb.load_data(num_words = vocabulary_size)\n",
        "print('Loaded dataset with {} training samples, {} test samples'.format(len(X_train), len(X_test)))"
      ]
    },
    {
      "cell_type": "code",
      "execution_count": null,
      "metadata": {
        "colab": {
          "base_uri": "https://localhost:8080/"
        },
        "id": "NrilwfurI5VA",
        "outputId": "73f147a6-4db2-4e4f-bff7-b61c6881aedc"
      },
      "outputs": [
        {
          "name": "stdout",
          "output_type": "stream",
          "text": [
            "2494\n",
            "2315\n",
            "Mean of Train: 238.71364\n",
            "Media of Train: 178.0\n",
            "Mode of Train: ModeResult(mode=array([132]), count=array([196]))\n",
            "----------\n",
            "Mean of Test:  230.8042\n",
            "Median of Test:  174.0\n",
            "Mode of Test:  ModeResult(mode=array([125]), count=array([184]))\n"
          ]
        }
      ],
      "source": [
        "#the review is stored as a sequence of integers. \n",
        "# These are word IDs that have been pre-assigned to individual words, and the label is an integer\n",
        "\n",
        "# trying to find out max len\n",
        "\n",
        "import numpy as np\n",
        "\n",
        "maxi = 0\n",
        "for i in   range(0, len(X_train)):\n",
        "  X_train[i]= np.array(X_train[i])\n",
        "  if(X_train[i].shape[0] > maxi ):\n",
        "    maxi = X_train[i].shape[0]\n",
        "  \n",
        "print(maxi)\n",
        "\n",
        "\n",
        "maxi = 0\n",
        "for i in   range(0, len(X_test)):\n",
        "  X_test[i]= np.array(X_test[i])\n",
        "  if(X_test[i].shape[0] > maxi ):\n",
        "    maxi = X_test[i].shape[0]\n",
        "  \n",
        "print(maxi)\n",
        "\n",
        "\n",
        "from scipy import stats\n",
        "rev_len_train = []\n",
        "rev_len_test = []\n",
        "for train_rev,test_rev in zip(X_train,X_test):\n",
        "    rev_len_train.append(len(train_rev))\n",
        "    rev_len_test.append(len(test_rev))\n",
        "\n",
        "\n",
        "print(\"Mean of Train:\",np.mean(rev_len_train))\n",
        "print(\"Media of Train:\",np.median(rev_len_train))\n",
        "print(\"Mode of Train:\",stats.mode(rev_len_train))\n",
        "\n",
        "print(\"----------\")\n",
        "print(\"Mean of Test: \",np.mean(rev_len_test))\n",
        "print(\"Median of Test: \",np.median(rev_len_test))\n",
        "print(\"Mode of Test: \",stats.mode(rev_len_test))\n",
        "\n",
        "\n",
        "\n",
        "\n"
      ]
    },
    {
      "cell_type": "markdown",
      "metadata": {
        "id": "jVSDi0wxiqII"
      },
      "source": [
        "Medain of the Train data set : 178 is the padding length for us :XD"
      ]
    },
    {
      "cell_type": "code",
      "execution_count": null,
      "metadata": {
        "colab": {
          "base_uri": "https://localhost:8080/"
        },
        "id": "h6upWxEWI5VC",
        "outputId": "cbe92cc4-17b8-4171-aa49-7d4f76993fb9"
      },
      "outputs": [
        {
          "name": "stdout",
          "output_type": "stream",
          "text": [
            "(25000, 178)\n",
            "(25000, 178)\n"
          ]
        }
      ],
      "source": [
        "word2id = imdb.get_word_index()\n",
        "id2word = {i: word for word, i in word2id.items()}\n",
        "max_len = 178\n",
        "#pad sequences (write your code here)\n",
        "from keras.preprocessing.sequence import pad_sequences\n",
        "X_train = pad_sequences(X_train, maxlen=max_len, truncating=\"post\", padding=\"post\")\n",
        "X_test =  pad_sequences(X_test,  maxlen=max_len, truncating=\"post\", padding=\"post\" )\n",
        "\n",
        "print(X_train.shape)\n",
        "print(X_test.shape)\n",
        "\n",
        "\n",
        "\n",
        "\n"
      ]
    },
    {
      "cell_type": "code",
      "execution_count": null,
      "metadata": {
        "colab": {
          "base_uri": "https://localhost:8080/"
        },
        "id": "-RcCOpeNI5VF",
        "outputId": "70e057c8-b9e3-44a7-a5c8-2fad75fb6b4a"
      },
      "outputs": [
        {
          "name": "stdout",
          "output_type": "stream",
          "text": [
            "Model: \"sequential_1\"\n",
            "_________________________________________________________________\n",
            " Layer (type)                Output Shape              Param #   \n",
            "=================================================================\n",
            " embedding_1 (Embedding)     (None, 178, 32)           160000    \n",
            "                                                                 \n",
            " simple_rnn (SimpleRNN)      (None, 16)                784       \n",
            "                                                                 \n",
            " dense (Dense)               (None, 1)                 17        \n",
            "                                                                 \n",
            "=================================================================\n",
            "Total params: 160,801\n",
            "Trainable params: 160,801\n",
            "Non-trainable params: 0\n",
            "_________________________________________________________________\n"
          ]
        }
      ],
      "source": [
        "\n",
        "\n",
        "from keras import Sequential\n",
        "from keras.layers import Embedding, LSTM, Dense, Dropout, SimpleRNN\n",
        "\n",
        "\n",
        "emb_len=32\n",
        "model=Sequential()\n",
        "model.add(Embedding(vocabulary_size, emb_len, input_length=len(X_train[0])))\n",
        "model.add(SimpleRNN(16,input_shape = (vocabulary_size,max_len), return_sequences=False,activation=\"relu\"))\n",
        "model.add(Dense(1, activation='sigmoid'))\n",
        "\n",
        "model.summary()\n"
      ]
    },
    {
      "cell_type": "code",
      "execution_count": null,
      "metadata": {
        "id": "InQ2TED3I5VI"
      },
      "outputs": [],
      "source": [
        "\n",
        "model.compile(loss='binary_crossentropy', optimizer='adam', metrics=['accuracy'])"
      ]
    },
    {
      "cell_type": "code",
      "execution_count": null,
      "metadata": {
        "colab": {
          "base_uri": "https://localhost:8080/"
        },
        "id": "q6A9Q0xmI5VJ",
        "outputId": "bceee694-6029-4fde-efba-3d9facf01859"
      },
      "outputs": [
        {
          "name": "stdout",
          "output_type": "stream",
          "text": [
            "Epoch 1/10\n",
            "196/196 [==============================] - 15s 69ms/step - loss: 0.6896 - accuracy: 0.5296 - val_loss: 0.6888 - val_accuracy: 0.5415\n",
            "Epoch 2/10\n",
            "196/196 [==============================] - 13s 67ms/step - loss: 0.5755 - accuracy: 0.7376 - val_loss: 0.4973 - val_accuracy: 0.7757\n",
            "Epoch 3/10\n",
            "196/196 [==============================] - 13s 68ms/step - loss: 0.4818 - accuracy: 0.7906 - val_loss: 0.4694 - val_accuracy: 0.7952\n",
            "Epoch 4/10\n",
            "196/196 [==============================] - 13s 66ms/step - loss: 0.4110 - accuracy: 0.8303 - val_loss: 0.4503 - val_accuracy: 0.8044\n",
            "Epoch 5/10\n",
            "196/196 [==============================] - 13s 64ms/step - loss: 0.4266 - accuracy: 0.8267 - val_loss: 0.4526 - val_accuracy: 0.7927\n",
            "Epoch 6/10\n",
            "196/196 [==============================] - 13s 66ms/step - loss: 0.3656 - accuracy: 0.8453 - val_loss: 0.4454 - val_accuracy: 0.8067\n",
            "Epoch 7/10\n",
            "196/196 [==============================] - 13s 67ms/step - loss: 0.3385 - accuracy: 0.8603 - val_loss: 0.4370 - val_accuracy: 0.8114\n",
            "Epoch 8/10\n",
            "196/196 [==============================] - 13s 67ms/step - loss: 0.3386 - accuracy: 0.8584 - val_loss: 0.4609 - val_accuracy: 0.8018\n",
            "Epoch 9/10\n",
            "196/196 [==============================] - 13s 66ms/step - loss: 0.3130 - accuracy: 0.8723 - val_loss: 0.4739 - val_accuracy: 0.7904\n",
            "Epoch 10/10\n",
            "196/196 [==============================] - 13s 65ms/step - loss: 0.5375 - accuracy: 0.7724 - val_loss: 0.4525 - val_accuracy: 0.8016\n"
          ]
        },
        {
          "data": {
            "text/plain": [
              "<keras.callbacks.History at 0x7fac8680f250>"
            ]
          },
          "execution_count": 12,
          "metadata": {},
          "output_type": "execute_result"
        }
      ],
      "source": [
        "batch_size = 128\n",
        "num_epochs = 10\n",
        "\n",
        "X_validation, y_validation = X_train[:batch_size], y_train[:batch_size]\n",
        "X_tr1, y_tr1 = X_train[batch_size:], y_train[batch_size:]\n",
        "\n",
        "model.fit(X_train, y_train, validation_data=(X_test, y_test), epochs=num_epochs, batch_size=batch_size)"
      ]
    },
    {
      "cell_type": "code",
      "execution_count": null,
      "metadata": {
        "colab": {
          "base_uri": "https://localhost:8080/"
        },
        "id": "YTXG__EmI5VM",
        "outputId": "1031c985-91e2-40e5-e4e9-9d1d0be1a977"
      },
      "outputs": [
        {
          "name": "stdout",
          "output_type": "stream",
          "text": [
            "test-accuracy: 0.8015599846839905\n"
          ]
        }
      ],
      "source": [
        "#evaluate the model using model.evaluate()\n",
        "scores = model.evaluate(X_test, y_test, verbose=0)\n",
        "print('test-accuracy:', scores[1])"
      ]
    },
    {
      "cell_type": "markdown",
      "metadata": {
        "id": "D1uSo8DgI5VN"
      },
      "source": [
        "# **LSTM**"
      ]
    },
    {
      "cell_type": "code",
      "execution_count": null,
      "metadata": {
        "colab": {
          "base_uri": "https://localhost:8080/"
        },
        "id": "Bk4rLYHwI5VP",
        "outputId": "cf6d0230-4db0-4906-a8f0-1d1300acdbc2"
      },
      "outputs": [
        {
          "name": "stdout",
          "output_type": "stream",
          "text": [
            "Model: \"sequential_5\"\n",
            "_________________________________________________________________\n",
            " Layer (type)                Output Shape              Param #   \n",
            "=================================================================\n",
            " embedding_5 (Embedding)     (None, 178, 32)           160000    \n",
            "                                                                 \n",
            " lstm_3 (LSTM)               (None, 128)               82432     \n",
            "                                                                 \n",
            " dense_5 (Dense)             (None, 1)                 129       \n",
            "                                                                 \n",
            " dense_6 (Dense)             (None, 1)                 2         \n",
            "                                                                 \n",
            "=================================================================\n",
            "Total params: 242,563\n",
            "Trainable params: 242,563\n",
            "Non-trainable params: 0\n",
            "_________________________________________________________________\n",
            "None\n"
          ]
        }
      ],
      "source": [
        "from keras import Sequential\n",
        "from keras.layers import Embedding, LSTM, Dense, Dropout\n",
        "\n",
        "emb_len=32\n",
        "model2=Sequential()\n",
        "model2.add(Embedding(vocabulary_size, emb_len, input_length=len(X_train[0])))\n",
        "model2.add(LSTM(128, dropout=0.2, recurrent_dropout=0.2))\n",
        "model2.add(Dense(1))\n",
        "model2.add(Dense(1, activation='sigmoid'))\n",
        "\n",
        "print(model2.summary())"
      ]
    },
    {
      "cell_type": "markdown",
      "metadata": {
        "id": "GBtRY9jmI5VQ"
      },
      "source": [
        "Perform Error analysis and explain using few examples."
      ]
    },
    {
      "cell_type": "code",
      "execution_count": null,
      "metadata": {
        "colab": {
          "base_uri": "https://localhost:8080/"
        },
        "id": "nrs2ylDaI5VR",
        "outputId": "cca6976a-924c-4dea-87eb-9ab7cde02633"
      },
      "outputs": [
        {
          "name": "stdout",
          "output_type": "stream",
          "text": [
            "Epoch 1/10\n",
            "196/196 [==============================] - 190s 952ms/step - loss: 0.6767 - accuracy: 0.5567 - val_loss: 0.5061 - val_accuracy: 0.7884\n",
            "Epoch 2/10\n",
            "196/196 [==============================] - 187s 956ms/step - loss: 0.4372 - accuracy: 0.8156 - val_loss: 0.4117 - val_accuracy: 0.8127\n",
            "Epoch 3/10\n",
            "196/196 [==============================] - 190s 967ms/step - loss: 0.3225 - accuracy: 0.8742 - val_loss: 0.3624 - val_accuracy: 0.8520\n",
            "Epoch 4/10\n",
            "196/196 [==============================] - 185s 943ms/step - loss: 0.2970 - accuracy: 0.8874 - val_loss: 0.3640 - val_accuracy: 0.8514\n",
            "Epoch 5/10\n",
            "196/196 [==============================] - 186s 951ms/step - loss: 0.2694 - accuracy: 0.9003 - val_loss: 0.3810 - val_accuracy: 0.8426\n",
            "Epoch 6/10\n",
            "196/196 [==============================] - 187s 955ms/step - loss: 0.2479 - accuracy: 0.9085 - val_loss: 0.3631 - val_accuracy: 0.8438\n",
            "Epoch 7/10\n",
            "196/196 [==============================] - 187s 955ms/step - loss: 0.2341 - accuracy: 0.9121 - val_loss: 0.3717 - val_accuracy: 0.8463\n",
            "Epoch 8/10\n",
            "196/196 [==============================] - 187s 956ms/step - loss: 0.2099 - accuracy: 0.9236 - val_loss: 0.3898 - val_accuracy: 0.8427\n",
            "Epoch 9/10\n",
            "196/196 [==============================] - 187s 954ms/step - loss: 0.1950 - accuracy: 0.9302 - val_loss: 0.4035 - val_accuracy: 0.8411\n",
            "Epoch 10/10\n",
            "196/196 [==============================] - 189s 966ms/step - loss: 0.1915 - accuracy: 0.9300 - val_loss: 0.4456 - val_accuracy: 0.8338\n"
          ]
        },
        {
          "data": {
            "text/plain": [
              "<keras.callbacks.History at 0x7fac863cb450>"
            ]
          },
          "execution_count": 18,
          "metadata": {},
          "output_type": "execute_result"
        }
      ],
      "source": [
        "batch_size = 128\n",
        "num_epochs = 10\n",
        "\n",
        "model2.compile(loss='binary_crossentropy', optimizer='adam', metrics=['accuracy'])\n",
        "#X_validation, y_validation = X_train[:batch_size], y_train[:batch_size]\n",
        "#X_tr1, y_tr1 = X_train[batch_size:], y_train[batch_size:]\n",
        "\n",
        "model2.fit(X_train, y_train, validation_data=(X_test, y_test), epochs=num_epochs, batch_size=batch_size)\n"
      ]
    },
    {
      "cell_type": "code",
      "execution_count": null,
      "metadata": {
        "colab": {
          "base_uri": "https://localhost:8080/"
        },
        "id": "QG0QC0QM76dI",
        "outputId": "d35e4e60-aebb-425c-cef6-b1db59e1f7be"
      },
      "outputs": [
        {
          "name": "stdout",
          "output_type": "stream",
          "text": [
            "test-accuracy: 0.8337600231170654\n"
          ]
        }
      ],
      "source": [
        "scores = model2.evaluate(X_test, y_test, verbose=0)\n",
        "print('test-accuracy:', scores[1])"
      ]
    }
  ],
  "metadata": {
    "colab": {
      "collapsed_sections": [],
      "name": "RNN.ipynb",
      "provenance": []
    },
    "kernelspec": {
      "display_name": "Python 3",
      "name": "python3"
    },
    "language_info": {
      "name": "python"
    },
    "orig_nbformat": 4
  },
  "nbformat": 4,
  "nbformat_minor": 0
}
